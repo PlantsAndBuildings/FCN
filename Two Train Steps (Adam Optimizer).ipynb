{
 "cells": [
  {
   "cell_type": "code",
   "execution_count": 1,
   "metadata": {},
   "outputs": [],
   "source": [
    "import tensorflow as tf\n",
    "import numpy as np"
   ]
  },
  {
   "cell_type": "code",
   "execution_count": 2,
   "metadata": {},
   "outputs": [],
   "source": [
    "data = {}\n",
    "data['inp'] = np.array([[0,0], [1,0], [0,1], [1,1]], dtype=np.float32)\n",
    "data['out'] = np.array([0, 1, 1, 0], dtype=np.float32)"
   ]
  },
  {
   "cell_type": "code",
   "execution_count": 3,
   "metadata": {},
   "outputs": [],
   "source": [
    "inp = tf.placeholder(shape=[None, 2], dtype=tf.float32)\n",
    "out = tf.placeholder(shape=[None,], dtype=tf.int32)\n",
    "\n",
    "w1 = tf.Variable(tf.truncated_normal_initializer()([3, 2]))\n",
    "b1 = tf.Variable(tf.zeros([3,]))\n",
    "h1 = tf.nn.tanh(tf.nn.bias_add(tf.transpose(tf.matmul(w1, tf.transpose(inp))), b1))\n",
    "\n",
    "w2 = tf.Variable(tf.truncated_normal_initializer()([2, 3]))\n",
    "b2 = tf.Variable(tf.zeros([2,]))\n",
    "score = tf.nn.tanh(tf.nn.bias_add(tf.transpose(tf.matmul(w2, tf.transpose(h1))), b2))\n",
    "\n",
    "individual_losses = tf.nn.sparse_softmax_cross_entropy_with_logits(logits=score, labels=out)\n",
    "loss = tf.reduce_mean(individual_losses)"
   ]
  },
  {
   "cell_type": "code",
   "execution_count": 4,
   "metadata": {},
   "outputs": [
    {
     "name": "stdout",
     "output_type": "stream",
     "text": [
      "W1: [[-0.0855306  -1.7534149 ]\n",
      " [-0.7679957  -0.49381784]\n",
      " [ 1.4905332  -1.13179   ]]\n",
      "b1: [0. 0. 0.]\n",
      "W2: [[ 0.3902838   0.9906545   1.4375308 ]\n",
      " [-0.9109928   0.77057594  0.798156  ]]\n",
      "b2: [0. 0.]\n",
      "losses: [0.6931472  0.83307695 0.36437458 1.3625035 ]\n",
      "0.8132756\n"
     ]
    }
   ],
   "source": [
    "with tf.Session() as sess:\n",
    "    sess.run(tf.global_variables_initializer())\n",
    "    print('W1: {}'.format(w1.eval()))\n",
    "    print('b1: {}'.format(b1.eval()))\n",
    "    print('W2: {}'.format(w2.eval()))\n",
    "    print('b2: {}'.format(b2.eval()))\n",
    "    print('losses: {}'.format(individual_losses.eval(feed_dict={inp: data['inp'], out: data['out']})))\n",
    "    print(sess.run(loss, feed_dict={inp: data['inp'], out: data['out']}))"
   ]
  },
  {
   "cell_type": "code",
   "execution_count": 5,
   "metadata": {},
   "outputs": [
    {
     "name": "stdout",
     "output_type": "stream",
     "text": [
      "0.76103413\n",
      "0.76047516\n",
      "0.759917\n",
      "0.75935966\n",
      "0.7588031\n",
      "0.7582475\n",
      "0.7576927\n",
      "0.7571389\n",
      "0.7565861\n",
      "0.75603414\n",
      "0.75548315\n",
      "0.75493324\n",
      "0.7543843\n",
      "0.7538364\n",
      "0.7532896\n",
      "0.7527438\n",
      "0.7521992\n",
      "0.7516556\n",
      "0.7511132\n",
      "0.7505718\n",
      "0.7500317\n",
      "0.7494927\n",
      "0.7489549\n",
      "0.7484183\n",
      "0.74788284\n",
      "0.74734867\n",
      "0.7468157\n",
      "0.7462839\n",
      "0.7457534\n",
      "0.745224\n",
      "0.744696\n",
      "0.7441692\n",
      "0.74364364\n",
      "0.74311936\n",
      "0.7425963\n",
      "0.7420745\n",
      "0.74155396\n",
      "0.74103475\n",
      "0.7405167\n",
      "0.74000007\n",
      "0.73948467\n",
      "0.7389704\n",
      "0.7384575\n",
      "0.7379458\n",
      "0.73743546\n",
      "0.73692626\n",
      "0.7364183\n",
      "0.7359117\n",
      "0.7354063\n",
      "0.7349021\n",
      "0.7343992\n",
      "0.7338974\n",
      "0.7333969\n",
      "0.7328976\n",
      "0.73239946\n",
      "0.7319025\n",
      "0.7314068\n",
      "0.73091215\n",
      "0.7304188\n",
      "0.7299266\n",
      "0.7294355\n",
      "0.72894555\n",
      "0.72845674\n",
      "0.727969\n",
      "0.72748244\n",
      "0.7269969\n",
      "0.72651255\n",
      "0.7260293\n",
      "0.72554696\n",
      "0.7250657\n",
      "0.72458553\n",
      "0.7241065\n",
      "0.7236284\n",
      "0.7231512\n",
      "0.7226752\n",
      "0.72220004\n",
      "0.72172594\n",
      "0.7212528\n",
      "0.7207805\n",
      "0.7203092\n",
      "0.71983886\n",
      "0.71936935\n",
      "0.7189008\n",
      "0.71843314\n",
      "0.7179664\n",
      "0.7175003\n",
      "0.7170353\n",
      "0.716571\n",
      "0.71610755\n",
      "0.7156449\n",
      "0.71518314\n",
      "0.714722\n",
      "0.7142617\n",
      "0.71380216\n",
      "0.7133433\n",
      "0.7128853\n",
      "0.712428\n",
      "0.7119713\n",
      "0.7115154\n",
      "0.71106017\n"
     ]
    }
   ],
   "source": [
    "opt = tf.train.AdamOptimizer()\n",
    "train_step_1 = opt.minimize(loss, var_list=[w2, b2])\n",
    "sess = tf.Session()\n",
    "sess.run(tf.global_variables_initializer())\n",
    "for i in range(100):\n",
    "    _, l = sess.run([train_step_1, loss], feed_dict={inp: data['inp'], out: data['out']})\n",
    "    print(l)"
   ]
  },
  {
   "cell_type": "code",
   "execution_count": 6,
   "metadata": {},
   "outputs": [
    {
     "ename": "FailedPreconditionError",
     "evalue": "Attempting to use uninitialized value Variable_1/Adam\n\t [[Node: Adam_1/update_Variable_1/ApplyAdam = ApplyAdam[T=DT_FLOAT, use_locking=false, use_nesterov=false, _device=\"/job:localhost/replica:0/task:0/device:CPU:0\"](Variable_1, Variable_1/Adam, Variable_1/Adam_1, beta1_power/read, beta2_power/read, Adam_1/learning_rate, Adam_1/beta1, Adam_1/beta2, Adam_1/epsilon, gradients_1/BiasAdd_grad/BiasAddGrad)]]\n\nCaused by op 'Adam_1/update_Variable_1/ApplyAdam', defined at:\n  File \"/home/daivik/anaconda2/envs/tf-fcn/lib/python3.5/runpy.py\", line 193, in _run_module_as_main\n    \"__main__\", mod_spec)\n  File \"/home/daivik/anaconda2/envs/tf-fcn/lib/python3.5/runpy.py\", line 85, in _run_code\n    exec(code, run_globals)\n  File \"/home/daivik/anaconda2/envs/tf-fcn/lib/python3.5/site-packages/ipykernel_launcher.py\", line 16, in <module>\n    app.launch_new_instance()\n  File \"/home/daivik/anaconda2/envs/tf-fcn/lib/python3.5/site-packages/traitlets/config/application.py\", line 658, in launch_instance\n    app.start()\n  File \"/home/daivik/anaconda2/envs/tf-fcn/lib/python3.5/site-packages/ipykernel/kernelapp.py\", line 486, in start\n    self.io_loop.start()\n  File \"/home/daivik/anaconda2/envs/tf-fcn/lib/python3.5/site-packages/tornado/platform/asyncio.py\", line 127, in start\n    self.asyncio_loop.run_forever()\n  File \"/home/daivik/anaconda2/envs/tf-fcn/lib/python3.5/asyncio/base_events.py\", line 421, in run_forever\n    self._run_once()\n  File \"/home/daivik/anaconda2/envs/tf-fcn/lib/python3.5/asyncio/base_events.py\", line 1425, in _run_once\n    handle._run()\n  File \"/home/daivik/anaconda2/envs/tf-fcn/lib/python3.5/asyncio/events.py\", line 127, in _run\n    self._callback(*self._args)\n  File \"/home/daivik/anaconda2/envs/tf-fcn/lib/python3.5/site-packages/tornado/platform/asyncio.py\", line 117, in _handle_events\n    handler_func(fileobj, events)\n  File \"/home/daivik/anaconda2/envs/tf-fcn/lib/python3.5/site-packages/tornado/stack_context.py\", line 276, in null_wrapper\n    return fn(*args, **kwargs)\n  File \"/home/daivik/anaconda2/envs/tf-fcn/lib/python3.5/site-packages/zmq/eventloop/zmqstream.py\", line 450, in _handle_events\n    self._handle_recv()\n  File \"/home/daivik/anaconda2/envs/tf-fcn/lib/python3.5/site-packages/zmq/eventloop/zmqstream.py\", line 480, in _handle_recv\n    self._run_callback(callback, msg)\n  File \"/home/daivik/anaconda2/envs/tf-fcn/lib/python3.5/site-packages/zmq/eventloop/zmqstream.py\", line 432, in _run_callback\n    callback(*args, **kwargs)\n  File \"/home/daivik/anaconda2/envs/tf-fcn/lib/python3.5/site-packages/tornado/stack_context.py\", line 276, in null_wrapper\n    return fn(*args, **kwargs)\n  File \"/home/daivik/anaconda2/envs/tf-fcn/lib/python3.5/site-packages/ipykernel/kernelbase.py\", line 283, in dispatcher\n    return self.dispatch_shell(stream, msg)\n  File \"/home/daivik/anaconda2/envs/tf-fcn/lib/python3.5/site-packages/ipykernel/kernelbase.py\", line 233, in dispatch_shell\n    handler(stream, idents, msg)\n  File \"/home/daivik/anaconda2/envs/tf-fcn/lib/python3.5/site-packages/ipykernel/kernelbase.py\", line 399, in execute_request\n    user_expressions, allow_stdin)\n  File \"/home/daivik/anaconda2/envs/tf-fcn/lib/python3.5/site-packages/ipykernel/ipkernel.py\", line 208, in do_execute\n    res = shell.run_cell(code, store_history=store_history, silent=silent)\n  File \"/home/daivik/anaconda2/envs/tf-fcn/lib/python3.5/site-packages/ipykernel/zmqshell.py\", line 537, in run_cell\n    return super(ZMQInteractiveShell, self).run_cell(*args, **kwargs)\n  File \"/home/daivik/anaconda2/envs/tf-fcn/lib/python3.5/site-packages/IPython/core/interactiveshell.py\", line 2662, in run_cell\n    raw_cell, store_history, silent, shell_futures)\n  File \"/home/daivik/anaconda2/envs/tf-fcn/lib/python3.5/site-packages/IPython/core/interactiveshell.py\", line 2785, in _run_cell\n    interactivity=interactivity, compiler=compiler, result=result)\n  File \"/home/daivik/anaconda2/envs/tf-fcn/lib/python3.5/site-packages/IPython/core/interactiveshell.py\", line 2903, in run_ast_nodes\n    if self.run_code(code, result):\n  File \"/home/daivik/anaconda2/envs/tf-fcn/lib/python3.5/site-packages/IPython/core/interactiveshell.py\", line 2963, in run_code\n    exec(code_obj, self.user_global_ns, self.user_ns)\n  File \"<ipython-input-6-8152f958d65a>\", line 1, in <module>\n    train_step_2 = opt.minimize(loss)\n  File \"/home/daivik/anaconda2/envs/tf-fcn/lib/python3.5/site-packages/tensorflow/python/training/optimizer.py\", line 424, in minimize\n    name=name)\n  File \"/home/daivik/anaconda2/envs/tf-fcn/lib/python3.5/site-packages/tensorflow/python/training/optimizer.py\", line 617, in apply_gradients\n    update_ops.append(processor.update_op(self, grad))\n  File \"/home/daivik/anaconda2/envs/tf-fcn/lib/python3.5/site-packages/tensorflow/python/training/optimizer.py\", line 113, in update_op\n    update_op = optimizer._apply_dense(g, self._v)  # pylint: disable=protected-access\n  File \"/home/daivik/anaconda2/envs/tf-fcn/lib/python3.5/site-packages/tensorflow/python/training/adam.py\", line 152, in _apply_dense\n    grad, use_locking=self._use_locking).op\n  File \"/home/daivik/anaconda2/envs/tf-fcn/lib/python3.5/site-packages/tensorflow/python/training/gen_training_ops.py\", line 230, in apply_adam\n    use_nesterov=use_nesterov, name=name)\n  File \"/home/daivik/anaconda2/envs/tf-fcn/lib/python3.5/site-packages/tensorflow/python/framework/op_def_library.py\", line 787, in _apply_op_helper\n    op_def=op_def)\n  File \"/home/daivik/anaconda2/envs/tf-fcn/lib/python3.5/site-packages/tensorflow/python/framework/ops.py\", line 3392, in create_op\n    op_def=op_def)\n  File \"/home/daivik/anaconda2/envs/tf-fcn/lib/python3.5/site-packages/tensorflow/python/framework/ops.py\", line 1718, in __init__\n    self._traceback = self._graph._extract_stack()  # pylint: disable=protected-access\n\nFailedPreconditionError (see above for traceback): Attempting to use uninitialized value Variable_1/Adam\n\t [[Node: Adam_1/update_Variable_1/ApplyAdam = ApplyAdam[T=DT_FLOAT, use_locking=false, use_nesterov=false, _device=\"/job:localhost/replica:0/task:0/device:CPU:0\"](Variable_1, Variable_1/Adam, Variable_1/Adam_1, beta1_power/read, beta2_power/read, Adam_1/learning_rate, Adam_1/beta1, Adam_1/beta2, Adam_1/epsilon, gradients_1/BiasAdd_grad/BiasAddGrad)]]\n",
     "output_type": "error",
     "traceback": [
      "\u001b[0;31m---------------------------------------------------------------------------\u001b[0m",
      "\u001b[0;31mFailedPreconditionError\u001b[0m                   Traceback (most recent call last)",
      "\u001b[0;32m~/anaconda2/envs/tf-fcn/lib/python3.5/site-packages/tensorflow/python/client/session.py\u001b[0m in \u001b[0;36m_do_call\u001b[0;34m(self, fn, *args)\u001b[0m\n\u001b[1;32m   1321\u001b[0m     \u001b[0;32mtry\u001b[0m\u001b[0;34m:\u001b[0m\u001b[0;34m\u001b[0m\u001b[0m\n\u001b[0;32m-> 1322\u001b[0;31m       \u001b[0;32mreturn\u001b[0m \u001b[0mfn\u001b[0m\u001b[0;34m(\u001b[0m\u001b[0;34m*\u001b[0m\u001b[0margs\u001b[0m\u001b[0;34m)\u001b[0m\u001b[0;34m\u001b[0m\u001b[0m\n\u001b[0m\u001b[1;32m   1323\u001b[0m     \u001b[0;32mexcept\u001b[0m \u001b[0merrors\u001b[0m\u001b[0;34m.\u001b[0m\u001b[0mOpError\u001b[0m \u001b[0;32mas\u001b[0m \u001b[0me\u001b[0m\u001b[0;34m:\u001b[0m\u001b[0;34m\u001b[0m\u001b[0m\n",
      "\u001b[0;32m~/anaconda2/envs/tf-fcn/lib/python3.5/site-packages/tensorflow/python/client/session.py\u001b[0m in \u001b[0;36m_run_fn\u001b[0;34m(feed_dict, fetch_list, target_list, options, run_metadata)\u001b[0m\n\u001b[1;32m   1306\u001b[0m       return self._call_tf_sessionrun(\n\u001b[0;32m-> 1307\u001b[0;31m           options, feed_dict, fetch_list, target_list, run_metadata)\n\u001b[0m\u001b[1;32m   1308\u001b[0m \u001b[0;34m\u001b[0m\u001b[0m\n",
      "\u001b[0;32m~/anaconda2/envs/tf-fcn/lib/python3.5/site-packages/tensorflow/python/client/session.py\u001b[0m in \u001b[0;36m_call_tf_sessionrun\u001b[0;34m(self, options, feed_dict, fetch_list, target_list, run_metadata)\u001b[0m\n\u001b[1;32m   1408\u001b[0m           \u001b[0mself\u001b[0m\u001b[0;34m.\u001b[0m\u001b[0m_session\u001b[0m\u001b[0;34m,\u001b[0m \u001b[0moptions\u001b[0m\u001b[0;34m,\u001b[0m \u001b[0mfeed_dict\u001b[0m\u001b[0;34m,\u001b[0m \u001b[0mfetch_list\u001b[0m\u001b[0;34m,\u001b[0m \u001b[0mtarget_list\u001b[0m\u001b[0;34m,\u001b[0m\u001b[0;34m\u001b[0m\u001b[0m\n\u001b[0;32m-> 1409\u001b[0;31m           run_metadata)\n\u001b[0m\u001b[1;32m   1410\u001b[0m     \u001b[0;32melse\u001b[0m\u001b[0;34m:\u001b[0m\u001b[0;34m\u001b[0m\u001b[0m\n",
      "\u001b[0;31mFailedPreconditionError\u001b[0m: Attempting to use uninitialized value Variable_1/Adam\n\t [[Node: Adam_1/update_Variable_1/ApplyAdam = ApplyAdam[T=DT_FLOAT, use_locking=false, use_nesterov=false, _device=\"/job:localhost/replica:0/task:0/device:CPU:0\"](Variable_1, Variable_1/Adam, Variable_1/Adam_1, beta1_power/read, beta2_power/read, Adam_1/learning_rate, Adam_1/beta1, Adam_1/beta2, Adam_1/epsilon, gradients_1/BiasAdd_grad/BiasAddGrad)]]",
      "\nDuring handling of the above exception, another exception occurred:\n",
      "\u001b[0;31mFailedPreconditionError\u001b[0m                   Traceback (most recent call last)",
      "\u001b[0;32m<ipython-input-6-8152f958d65a>\u001b[0m in \u001b[0;36m<module>\u001b[0;34m()\u001b[0m\n\u001b[1;32m      1\u001b[0m \u001b[0mtrain_step_2\u001b[0m \u001b[0;34m=\u001b[0m \u001b[0mopt\u001b[0m\u001b[0;34m.\u001b[0m\u001b[0mminimize\u001b[0m\u001b[0;34m(\u001b[0m\u001b[0mloss\u001b[0m\u001b[0;34m)\u001b[0m\u001b[0;34m\u001b[0m\u001b[0m\n\u001b[1;32m      2\u001b[0m \u001b[0;32mfor\u001b[0m \u001b[0mi\u001b[0m \u001b[0;32min\u001b[0m \u001b[0mrange\u001b[0m\u001b[0;34m(\u001b[0m\u001b[0;36m1000\u001b[0m\u001b[0;34m)\u001b[0m\u001b[0;34m:\u001b[0m\u001b[0;34m\u001b[0m\u001b[0m\n\u001b[0;32m----> 3\u001b[0;31m     \u001b[0m_\u001b[0m\u001b[0;34m,\u001b[0m \u001b[0ml\u001b[0m \u001b[0;34m=\u001b[0m \u001b[0msess\u001b[0m\u001b[0;34m.\u001b[0m\u001b[0mrun\u001b[0m\u001b[0;34m(\u001b[0m\u001b[0;34m[\u001b[0m\u001b[0mtrain_step_2\u001b[0m\u001b[0;34m,\u001b[0m \u001b[0mloss\u001b[0m\u001b[0;34m]\u001b[0m\u001b[0;34m,\u001b[0m \u001b[0mfeed_dict\u001b[0m\u001b[0;34m=\u001b[0m\u001b[0;34m{\u001b[0m\u001b[0minp\u001b[0m\u001b[0;34m:\u001b[0m \u001b[0mdata\u001b[0m\u001b[0;34m[\u001b[0m\u001b[0;34m'inp'\u001b[0m\u001b[0;34m]\u001b[0m\u001b[0;34m,\u001b[0m \u001b[0mout\u001b[0m\u001b[0;34m:\u001b[0m \u001b[0mdata\u001b[0m\u001b[0;34m[\u001b[0m\u001b[0;34m'out'\u001b[0m\u001b[0;34m]\u001b[0m\u001b[0;34m}\u001b[0m\u001b[0;34m)\u001b[0m\u001b[0;34m\u001b[0m\u001b[0m\n\u001b[0m\u001b[1;32m      4\u001b[0m     \u001b[0mprint\u001b[0m\u001b[0;34m(\u001b[0m\u001b[0ml\u001b[0m\u001b[0;34m)\u001b[0m\u001b[0;34m\u001b[0m\u001b[0m\n",
      "\u001b[0;32m~/anaconda2/envs/tf-fcn/lib/python3.5/site-packages/tensorflow/python/client/session.py\u001b[0m in \u001b[0;36mrun\u001b[0;34m(self, fetches, feed_dict, options, run_metadata)\u001b[0m\n\u001b[1;32m    898\u001b[0m     \u001b[0;32mtry\u001b[0m\u001b[0;34m:\u001b[0m\u001b[0;34m\u001b[0m\u001b[0m\n\u001b[1;32m    899\u001b[0m       result = self._run(None, fetches, feed_dict, options_ptr,\n\u001b[0;32m--> 900\u001b[0;31m                          run_metadata_ptr)\n\u001b[0m\u001b[1;32m    901\u001b[0m       \u001b[0;32mif\u001b[0m \u001b[0mrun_metadata\u001b[0m\u001b[0;34m:\u001b[0m\u001b[0;34m\u001b[0m\u001b[0m\n\u001b[1;32m    902\u001b[0m         \u001b[0mproto_data\u001b[0m \u001b[0;34m=\u001b[0m \u001b[0mtf_session\u001b[0m\u001b[0;34m.\u001b[0m\u001b[0mTF_GetBuffer\u001b[0m\u001b[0;34m(\u001b[0m\u001b[0mrun_metadata_ptr\u001b[0m\u001b[0;34m)\u001b[0m\u001b[0;34m\u001b[0m\u001b[0m\n",
      "\u001b[0;32m~/anaconda2/envs/tf-fcn/lib/python3.5/site-packages/tensorflow/python/client/session.py\u001b[0m in \u001b[0;36m_run\u001b[0;34m(self, handle, fetches, feed_dict, options, run_metadata)\u001b[0m\n\u001b[1;32m   1133\u001b[0m     \u001b[0;32mif\u001b[0m \u001b[0mfinal_fetches\u001b[0m \u001b[0;32mor\u001b[0m \u001b[0mfinal_targets\u001b[0m \u001b[0;32mor\u001b[0m \u001b[0;34m(\u001b[0m\u001b[0mhandle\u001b[0m \u001b[0;32mand\u001b[0m \u001b[0mfeed_dict_tensor\u001b[0m\u001b[0;34m)\u001b[0m\u001b[0;34m:\u001b[0m\u001b[0;34m\u001b[0m\u001b[0m\n\u001b[1;32m   1134\u001b[0m       results = self._do_run(handle, final_targets, final_fetches,\n\u001b[0;32m-> 1135\u001b[0;31m                              feed_dict_tensor, options, run_metadata)\n\u001b[0m\u001b[1;32m   1136\u001b[0m     \u001b[0;32melse\u001b[0m\u001b[0;34m:\u001b[0m\u001b[0;34m\u001b[0m\u001b[0m\n\u001b[1;32m   1137\u001b[0m       \u001b[0mresults\u001b[0m \u001b[0;34m=\u001b[0m \u001b[0;34m[\u001b[0m\u001b[0;34m]\u001b[0m\u001b[0;34m\u001b[0m\u001b[0m\n",
      "\u001b[0;32m~/anaconda2/envs/tf-fcn/lib/python3.5/site-packages/tensorflow/python/client/session.py\u001b[0m in \u001b[0;36m_do_run\u001b[0;34m(self, handle, target_list, fetch_list, feed_dict, options, run_metadata)\u001b[0m\n\u001b[1;32m   1314\u001b[0m     \u001b[0;32mif\u001b[0m \u001b[0mhandle\u001b[0m \u001b[0;32mis\u001b[0m \u001b[0;32mNone\u001b[0m\u001b[0;34m:\u001b[0m\u001b[0;34m\u001b[0m\u001b[0m\n\u001b[1;32m   1315\u001b[0m       return self._do_call(_run_fn, feeds, fetches, targets, options,\n\u001b[0;32m-> 1316\u001b[0;31m                            run_metadata)\n\u001b[0m\u001b[1;32m   1317\u001b[0m     \u001b[0;32melse\u001b[0m\u001b[0;34m:\u001b[0m\u001b[0;34m\u001b[0m\u001b[0m\n\u001b[1;32m   1318\u001b[0m       \u001b[0;32mreturn\u001b[0m \u001b[0mself\u001b[0m\u001b[0;34m.\u001b[0m\u001b[0m_do_call\u001b[0m\u001b[0;34m(\u001b[0m\u001b[0m_prun_fn\u001b[0m\u001b[0;34m,\u001b[0m \u001b[0mhandle\u001b[0m\u001b[0;34m,\u001b[0m \u001b[0mfeeds\u001b[0m\u001b[0;34m,\u001b[0m \u001b[0mfetches\u001b[0m\u001b[0;34m)\u001b[0m\u001b[0;34m\u001b[0m\u001b[0m\n",
      "\u001b[0;32m~/anaconda2/envs/tf-fcn/lib/python3.5/site-packages/tensorflow/python/client/session.py\u001b[0m in \u001b[0;36m_do_call\u001b[0;34m(self, fn, *args)\u001b[0m\n\u001b[1;32m   1333\u001b[0m         \u001b[0;32mexcept\u001b[0m \u001b[0mKeyError\u001b[0m\u001b[0;34m:\u001b[0m\u001b[0;34m\u001b[0m\u001b[0m\n\u001b[1;32m   1334\u001b[0m           \u001b[0;32mpass\u001b[0m\u001b[0;34m\u001b[0m\u001b[0m\n\u001b[0;32m-> 1335\u001b[0;31m       \u001b[0;32mraise\u001b[0m \u001b[0mtype\u001b[0m\u001b[0;34m(\u001b[0m\u001b[0me\u001b[0m\u001b[0;34m)\u001b[0m\u001b[0;34m(\u001b[0m\u001b[0mnode_def\u001b[0m\u001b[0;34m,\u001b[0m \u001b[0mop\u001b[0m\u001b[0;34m,\u001b[0m \u001b[0mmessage\u001b[0m\u001b[0;34m)\u001b[0m\u001b[0;34m\u001b[0m\u001b[0m\n\u001b[0m\u001b[1;32m   1336\u001b[0m \u001b[0;34m\u001b[0m\u001b[0m\n\u001b[1;32m   1337\u001b[0m   \u001b[0;32mdef\u001b[0m \u001b[0m_extend_graph\u001b[0m\u001b[0;34m(\u001b[0m\u001b[0mself\u001b[0m\u001b[0;34m)\u001b[0m\u001b[0;34m:\u001b[0m\u001b[0;34m\u001b[0m\u001b[0m\n",
      "\u001b[0;31mFailedPreconditionError\u001b[0m: Attempting to use uninitialized value Variable_1/Adam\n\t [[Node: Adam_1/update_Variable_1/ApplyAdam = ApplyAdam[T=DT_FLOAT, use_locking=false, use_nesterov=false, _device=\"/job:localhost/replica:0/task:0/device:CPU:0\"](Variable_1, Variable_1/Adam, Variable_1/Adam_1, beta1_power/read, beta2_power/read, Adam_1/learning_rate, Adam_1/beta1, Adam_1/beta2, Adam_1/epsilon, gradients_1/BiasAdd_grad/BiasAddGrad)]]\n\nCaused by op 'Adam_1/update_Variable_1/ApplyAdam', defined at:\n  File \"/home/daivik/anaconda2/envs/tf-fcn/lib/python3.5/runpy.py\", line 193, in _run_module_as_main\n    \"__main__\", mod_spec)\n  File \"/home/daivik/anaconda2/envs/tf-fcn/lib/python3.5/runpy.py\", line 85, in _run_code\n    exec(code, run_globals)\n  File \"/home/daivik/anaconda2/envs/tf-fcn/lib/python3.5/site-packages/ipykernel_launcher.py\", line 16, in <module>\n    app.launch_new_instance()\n  File \"/home/daivik/anaconda2/envs/tf-fcn/lib/python3.5/site-packages/traitlets/config/application.py\", line 658, in launch_instance\n    app.start()\n  File \"/home/daivik/anaconda2/envs/tf-fcn/lib/python3.5/site-packages/ipykernel/kernelapp.py\", line 486, in start\n    self.io_loop.start()\n  File \"/home/daivik/anaconda2/envs/tf-fcn/lib/python3.5/site-packages/tornado/platform/asyncio.py\", line 127, in start\n    self.asyncio_loop.run_forever()\n  File \"/home/daivik/anaconda2/envs/tf-fcn/lib/python3.5/asyncio/base_events.py\", line 421, in run_forever\n    self._run_once()\n  File \"/home/daivik/anaconda2/envs/tf-fcn/lib/python3.5/asyncio/base_events.py\", line 1425, in _run_once\n    handle._run()\n  File \"/home/daivik/anaconda2/envs/tf-fcn/lib/python3.5/asyncio/events.py\", line 127, in _run\n    self._callback(*self._args)\n  File \"/home/daivik/anaconda2/envs/tf-fcn/lib/python3.5/site-packages/tornado/platform/asyncio.py\", line 117, in _handle_events\n    handler_func(fileobj, events)\n  File \"/home/daivik/anaconda2/envs/tf-fcn/lib/python3.5/site-packages/tornado/stack_context.py\", line 276, in null_wrapper\n    return fn(*args, **kwargs)\n  File \"/home/daivik/anaconda2/envs/tf-fcn/lib/python3.5/site-packages/zmq/eventloop/zmqstream.py\", line 450, in _handle_events\n    self._handle_recv()\n  File \"/home/daivik/anaconda2/envs/tf-fcn/lib/python3.5/site-packages/zmq/eventloop/zmqstream.py\", line 480, in _handle_recv\n    self._run_callback(callback, msg)\n  File \"/home/daivik/anaconda2/envs/tf-fcn/lib/python3.5/site-packages/zmq/eventloop/zmqstream.py\", line 432, in _run_callback\n    callback(*args, **kwargs)\n  File \"/home/daivik/anaconda2/envs/tf-fcn/lib/python3.5/site-packages/tornado/stack_context.py\", line 276, in null_wrapper\n    return fn(*args, **kwargs)\n  File \"/home/daivik/anaconda2/envs/tf-fcn/lib/python3.5/site-packages/ipykernel/kernelbase.py\", line 283, in dispatcher\n    return self.dispatch_shell(stream, msg)\n  File \"/home/daivik/anaconda2/envs/tf-fcn/lib/python3.5/site-packages/ipykernel/kernelbase.py\", line 233, in dispatch_shell\n    handler(stream, idents, msg)\n  File \"/home/daivik/anaconda2/envs/tf-fcn/lib/python3.5/site-packages/ipykernel/kernelbase.py\", line 399, in execute_request\n    user_expressions, allow_stdin)\n  File \"/home/daivik/anaconda2/envs/tf-fcn/lib/python3.5/site-packages/ipykernel/ipkernel.py\", line 208, in do_execute\n    res = shell.run_cell(code, store_history=store_history, silent=silent)\n  File \"/home/daivik/anaconda2/envs/tf-fcn/lib/python3.5/site-packages/ipykernel/zmqshell.py\", line 537, in run_cell\n    return super(ZMQInteractiveShell, self).run_cell(*args, **kwargs)\n  File \"/home/daivik/anaconda2/envs/tf-fcn/lib/python3.5/site-packages/IPython/core/interactiveshell.py\", line 2662, in run_cell\n    raw_cell, store_history, silent, shell_futures)\n  File \"/home/daivik/anaconda2/envs/tf-fcn/lib/python3.5/site-packages/IPython/core/interactiveshell.py\", line 2785, in _run_cell\n    interactivity=interactivity, compiler=compiler, result=result)\n  File \"/home/daivik/anaconda2/envs/tf-fcn/lib/python3.5/site-packages/IPython/core/interactiveshell.py\", line 2903, in run_ast_nodes\n    if self.run_code(code, result):\n  File \"/home/daivik/anaconda2/envs/tf-fcn/lib/python3.5/site-packages/IPython/core/interactiveshell.py\", line 2963, in run_code\n    exec(code_obj, self.user_global_ns, self.user_ns)\n  File \"<ipython-input-6-8152f958d65a>\", line 1, in <module>\n    train_step_2 = opt.minimize(loss)\n  File \"/home/daivik/anaconda2/envs/tf-fcn/lib/python3.5/site-packages/tensorflow/python/training/optimizer.py\", line 424, in minimize\n    name=name)\n  File \"/home/daivik/anaconda2/envs/tf-fcn/lib/python3.5/site-packages/tensorflow/python/training/optimizer.py\", line 617, in apply_gradients\n    update_ops.append(processor.update_op(self, grad))\n  File \"/home/daivik/anaconda2/envs/tf-fcn/lib/python3.5/site-packages/tensorflow/python/training/optimizer.py\", line 113, in update_op\n    update_op = optimizer._apply_dense(g, self._v)  # pylint: disable=protected-access\n  File \"/home/daivik/anaconda2/envs/tf-fcn/lib/python3.5/site-packages/tensorflow/python/training/adam.py\", line 152, in _apply_dense\n    grad, use_locking=self._use_locking).op\n  File \"/home/daivik/anaconda2/envs/tf-fcn/lib/python3.5/site-packages/tensorflow/python/training/gen_training_ops.py\", line 230, in apply_adam\n    use_nesterov=use_nesterov, name=name)\n  File \"/home/daivik/anaconda2/envs/tf-fcn/lib/python3.5/site-packages/tensorflow/python/framework/op_def_library.py\", line 787, in _apply_op_helper\n    op_def=op_def)\n  File \"/home/daivik/anaconda2/envs/tf-fcn/lib/python3.5/site-packages/tensorflow/python/framework/ops.py\", line 3392, in create_op\n    op_def=op_def)\n  File \"/home/daivik/anaconda2/envs/tf-fcn/lib/python3.5/site-packages/tensorflow/python/framework/ops.py\", line 1718, in __init__\n    self._traceback = self._graph._extract_stack()  # pylint: disable=protected-access\n\nFailedPreconditionError (see above for traceback): Attempting to use uninitialized value Variable_1/Adam\n\t [[Node: Adam_1/update_Variable_1/ApplyAdam = ApplyAdam[T=DT_FLOAT, use_locking=false, use_nesterov=false, _device=\"/job:localhost/replica:0/task:0/device:CPU:0\"](Variable_1, Variable_1/Adam, Variable_1/Adam_1, beta1_power/read, beta2_power/read, Adam_1/learning_rate, Adam_1/beta1, Adam_1/beta2, Adam_1/epsilon, gradients_1/BiasAdd_grad/BiasAddGrad)]]\n"
     ]
    }
   ],
   "source": [
    "train_step_2 = opt.minimize(loss)\n",
    "for i in range(1000):\n",
    "    _, l = sess.run([train_step_2, loss], feed_dict={inp: data['inp'], out: data['out']})\n",
    "    print(l)"
   ]
  },
  {
   "cell_type": "code",
   "execution_count": null,
   "metadata": {},
   "outputs": [],
   "source": [
    "print(sess.run(score, feed_dict={inp: data['inp']}))"
   ]
  },
  {
   "cell_type": "code",
   "execution_count": null,
   "metadata": {
    "scrolled": true
   },
   "outputs": [],
   "source": [
    "print('W1: {}'.format(w1.eval(session=sess)))\n",
    "print('b1: {}'.format(b1.eval(session=sess)))\n",
    "print('W2: {}'.format(w2.eval(session=sess)))\n",
    "print('b2: {}'.format(b2.eval(session=sess)))\n",
    "print('losses: {}'.format(individual_losses.eval(session=sess, feed_dict={inp: data['inp'], out: data['out']})))"
   ]
  },
  {
   "cell_type": "code",
   "execution_count": null,
   "metadata": {},
   "outputs": [],
   "source": []
  }
 ],
 "metadata": {
  "kernelspec": {
   "display_name": "Python 3",
   "language": "python",
   "name": "python3"
  },
  "language_info": {
   "codemirror_mode": {
    "name": "ipython",
    "version": 3
   },
   "file_extension": ".py",
   "mimetype": "text/x-python",
   "name": "python",
   "nbconvert_exporter": "python",
   "pygments_lexer": "ipython3",
   "version": "3.5.5"
  }
 },
 "nbformat": 4,
 "nbformat_minor": 2
}

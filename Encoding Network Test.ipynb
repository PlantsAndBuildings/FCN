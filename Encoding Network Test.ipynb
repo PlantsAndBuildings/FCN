{
 "cells": [
  {
   "cell_type": "code",
   "execution_count": null,
   "metadata": {
    "collapsed": true
   },
   "outputs": [],
   "source": [
    "from voc_data_reader import VOCDataReader\n",
    "from fcn import FCN\n",
    "import tensorflow as tf\n",
    "import numpy as np"
   ]
  },
  {
   "cell_type": "code",
   "execution_count": null,
   "metadata": {
    "collapsed": true
   },
   "outputs": [],
   "source": [
    "TRAINVAL_ROOT_DIR = '/home/paperspace/PASCAL-VOC-Dataset/TrainVal'\n",
    "TEST_ROOT_DIR = '/home/paperspace/PASCAL-VOC-Dataset/Test'\n",
    "VGG_PARAMS_ROOT_DIR = '/home/paperspace/FCN/vgg-weights'\n",
    "dsr = VOCDataReader(TRAINVAL_ROOT_DIR, TEST_ROOT_DIR)\n",
    "fcn = FCN(TRAINVAL_ROOT_DIR, TEST_ROOT_DIR, VGG_PARAMS_ROOT_DIR)\n",
    "\n",
    "tb = dsr.next_train_batch(1)\n",
    "images = tb['batch']\n",
    "names = tb['names']\n",
    "for i in images:\n",
    "    img = i\n",
    "img = np.reshape(img, [1, img.shape[0], img.shape[1], img.shape[2]])\n",
    "fcn.sess.run(tf.global_variables_initializer())\n",
    "output = fcn.sess.run(\n",
    "            fcn.net['fc8'],\n",
    "            feed_dict = {\n",
    "                fcn.net['input']: img\n",
    "             }\n",
    "         )\n",
    "\n"
   ]
  },
  {
   "cell_type": "code",
   "execution_count": null,
   "metadata": {},
   "outputs": [],
   "source": [
    "print(output.shape)"
   ]
  },
  {
   "cell_type": "code",
   "execution_count": null,
   "metadata": {},
   "outputs": [],
   "source": [
    "import matplotlib.pyplot as plt\n",
    "%matplotlib inline\n",
    "\n",
    "plt.imshow(output[0][:,:,600])"
   ]
  },
  {
   "cell_type": "code",
   "execution_count": null,
   "metadata": {},
   "outputs": [],
   "source": [
    "import os, cv2\n",
    "img_path = os.path.join(TRAINVAL_ROOT_DIR,'VOCdevkit/VOC2011/JPEGImages/{}.jpg'.format(names[0]))\n",
    "img_unnormalized = cv2.imread(img_path)[:,:,::-1]\n",
    "plt.imshow(img_unnormalized)"
   ]
  },
  {
   "cell_type": "code",
   "execution_count": null,
   "metadata": {},
   "outputs": [],
   "source": [
    "plt.imshow(img[0])"
   ]
  },
  {
   "cell_type": "code",
   "execution_count": null,
   "metadata": {
    "collapsed": true
   },
   "outputs": [],
   "source": []
  }
 ],
 "metadata": {
  "kernelspec": {
   "display_name": "Python 3",
   "language": "python",
   "name": "python3"
  },
  "language_info": {
   "codemirror_mode": {
    "name": "ipython",
    "version": 3
   },
   "file_extension": ".py",
   "mimetype": "text/x-python",
   "name": "python",
   "nbconvert_exporter": "python",
   "pygments_lexer": "ipython3",
   "version": "3.6.2"
  }
 },
 "nbformat": 4,
 "nbformat_minor": 2
}

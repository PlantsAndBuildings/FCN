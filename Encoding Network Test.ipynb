{
 "cells": [
  {
   "cell_type": "code",
   "execution_count": 1,
   "metadata": {},
   "outputs": [],
   "source": [
    "from voc_data_reader import VOCDataReader\n",
    "from fcn import FCN\n",
    "import tensorflow as tf\n",
    "import numpy as np"
   ]
  },
  {
   "cell_type": "code",
   "execution_count": null,
   "metadata": {},
   "outputs": [],
   "source": [
    "TRAINVAL_ROOT_DIR = '/root/PASCAL-VOC-Dataset/TrainVal'\n",
    "TEST_ROOT_DIR = '/root/PASCAL-VOC-Dataset/Test'\n",
    "VGG_PARAMS_ROOT_DIR = '/root/tf-fcn/vgg-weights'\n",
    "dsr = VOCDataReader(TRAINVAL_ROOT_DIR, TEST_ROOT_DIR)\n",
    "fcn = FCN(TRAINVAL_ROOT_DIR, TEST_ROOT_DIR, VGG_PARAMS_ROOT_DIR)\n",
    "\n",
    "for i in dsr.next_train_batch(1)['batch']:\n",
    "    img = i\n",
    "output = FCN.sess.run(\n",
    "            fcn.net['fc8'],\n",
    "            feed_dict = {\n",
    "                fcn.net['input']: img\n",
    "             }\n",
    "         )\n",
    "\n"
   ]
  },
  {
   "cell_type": "code",
   "execution_count": null,
   "metadata": {},
   "outputs": [],
   "source": [
    "print(output.shape)"
   ]
  }
 ],
 "metadata": {
  "kernelspec": {
   "display_name": "Python 3",
   "language": "python",
   "name": "python3"
  },
  "language_info": {
   "codemirror_mode": {
    "name": "ipython",
    "version": 3
   },
   "file_extension": ".py",
   "mimetype": "text/x-python",
   "name": "python",
   "nbconvert_exporter": "python",
   "pygments_lexer": "ipython3",
   "version": "3.6.5"
  }
 },
 "nbformat": 4,
 "nbformat_minor": 2
}
